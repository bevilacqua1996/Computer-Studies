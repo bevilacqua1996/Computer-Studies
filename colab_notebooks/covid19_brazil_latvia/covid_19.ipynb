{
  "nbformat": 4,
  "nbformat_minor": 0,
  "metadata": {
    "colab": {
      "name": "covid_19.ipynb",
      "provenance": []
    },
    "kernelspec": {
      "name": "python3",
      "display_name": "Python 3"
    }
  },
  "cells": [
    {
      "cell_type": "code",
      "metadata": {
        "id": "jZD_vPXQz6_p",
        "colab_type": "code",
        "colab": {}
      },
      "source": [
        "import pandas as pd\n",
        "import numpy as np\n",
        "import seaborn as sbn\n",
        "import matplotlib.pyplot as plt"
      ],
      "execution_count": 0,
      "outputs": []
    },
    {
      "cell_type": "code",
      "metadata": {
        "id": "cxz1e6N_0EhG",
        "colab_type": "code",
        "colab": {}
      },
      "source": [
        "csv_covid_19 = pd.read_csv('./covid_19_data.csv')\n",
        "csv_covid_19.head()\n",
        "country1 = \"Brazil\"\n",
        "country2 = \"Latvia\""
      ],
      "execution_count": 0,
      "outputs": []
    },
    {
      "cell_type": "code",
      "metadata": {
        "id": "eiEhHONe0RIp",
        "colab_type": "code",
        "outputId": "ee74ebdc-6ccf-41ef-b5d6-0c436015a774",
        "colab": {
          "base_uri": "https://localhost:8080/",
          "height": 297
        }
      },
      "source": [
        "csv_covid_19.describe()"
      ],
      "execution_count": 0,
      "outputs": [
        {
          "output_type": "execute_result",
          "data": {
            "text/html": [
              "<div>\n",
              "<style scoped>\n",
              "    .dataframe tbody tr th:only-of-type {\n",
              "        vertical-align: middle;\n",
              "    }\n",
              "\n",
              "    .dataframe tbody tr th {\n",
              "        vertical-align: top;\n",
              "    }\n",
              "\n",
              "    .dataframe thead th {\n",
              "        text-align: right;\n",
              "    }\n",
              "</style>\n",
              "<table border=\"1\" class=\"dataframe\">\n",
              "  <thead>\n",
              "    <tr style=\"text-align: right;\">\n",
              "      <th></th>\n",
              "      <th>SNo</th>\n",
              "      <th>Confirmed</th>\n",
              "      <th>Deaths</th>\n",
              "      <th>Recovered</th>\n",
              "    </tr>\n",
              "  </thead>\n",
              "  <tbody>\n",
              "    <tr>\n",
              "      <th>count</th>\n",
              "      <td>8509.000000</td>\n",
              "      <td>8509.000000</td>\n",
              "      <td>8509.000000</td>\n",
              "      <td>8509.000000</td>\n",
              "    </tr>\n",
              "    <tr>\n",
              "      <th>mean</th>\n",
              "      <td>4255.000000</td>\n",
              "      <td>704.421201</td>\n",
              "      <td>25.542955</td>\n",
              "      <td>245.788342</td>\n",
              "    </tr>\n",
              "    <tr>\n",
              "      <th>std</th>\n",
              "      <td>2456.481054</td>\n",
              "      <td>5111.664699</td>\n",
              "      <td>252.402842</td>\n",
              "      <td>2774.093868</td>\n",
              "    </tr>\n",
              "    <tr>\n",
              "      <th>min</th>\n",
              "      <td>1.000000</td>\n",
              "      <td>0.000000</td>\n",
              "      <td>0.000000</td>\n",
              "      <td>0.000000</td>\n",
              "    </tr>\n",
              "    <tr>\n",
              "      <th>25%</th>\n",
              "      <td>2128.000000</td>\n",
              "      <td>2.000000</td>\n",
              "      <td>0.000000</td>\n",
              "      <td>0.000000</td>\n",
              "    </tr>\n",
              "    <tr>\n",
              "      <th>50%</th>\n",
              "      <td>4255.000000</td>\n",
              "      <td>18.000000</td>\n",
              "      <td>0.000000</td>\n",
              "      <td>0.000000</td>\n",
              "    </tr>\n",
              "    <tr>\n",
              "      <th>75%</th>\n",
              "      <td>6382.000000</td>\n",
              "      <td>140.000000</td>\n",
              "      <td>1.000000</td>\n",
              "      <td>10.000000</td>\n",
              "    </tr>\n",
              "    <tr>\n",
              "      <th>max</th>\n",
              "      <td>8509.000000</td>\n",
              "      <td>69176.000000</td>\n",
              "      <td>6820.000000</td>\n",
              "      <td>60324.000000</td>\n",
              "    </tr>\n",
              "  </tbody>\n",
              "</table>\n",
              "</div>"
            ],
            "text/plain": [
              "               SNo     Confirmed       Deaths     Recovered\n",
              "count  8509.000000   8509.000000  8509.000000   8509.000000\n",
              "mean   4255.000000    704.421201    25.542955    245.788342\n",
              "std    2456.481054   5111.664699   252.402842   2774.093868\n",
              "min       1.000000      0.000000     0.000000      0.000000\n",
              "25%    2128.000000      2.000000     0.000000      0.000000\n",
              "50%    4255.000000     18.000000     0.000000      0.000000\n",
              "75%    6382.000000    140.000000     1.000000     10.000000\n",
              "max    8509.000000  69176.000000  6820.000000  60324.000000"
            ]
          },
          "metadata": {
            "tags": []
          },
          "execution_count": 34
        }
      ]
    },
    {
      "cell_type": "code",
      "metadata": {
        "id": "6YZ6W3pu0wW5",
        "colab_type": "code",
        "outputId": "3ca310ee-ce72-42df-efdf-70cb9c69c4eb",
        "colab": {
          "base_uri": "https://localhost:8080/",
          "height": 204
        }
      },
      "source": [
        "covid_19_country1 = csv_covid_19.where(csv_covid_19[\"Country/Region\"]==country1).sort_values(by='ObservationDate')\n",
        "covid_19_country1.head()"
      ],
      "execution_count": 0,
      "outputs": [
        {
          "output_type": "execute_result",
          "data": {
            "text/html": [
              "<div>\n",
              "<style scoped>\n",
              "    .dataframe tbody tr th:only-of-type {\n",
              "        vertical-align: middle;\n",
              "    }\n",
              "\n",
              "    .dataframe tbody tr th {\n",
              "        vertical-align: top;\n",
              "    }\n",
              "\n",
              "    .dataframe thead th {\n",
              "        text-align: right;\n",
              "    }\n",
              "</style>\n",
              "<table border=\"1\" class=\"dataframe\">\n",
              "  <thead>\n",
              "    <tr style=\"text-align: right;\">\n",
              "      <th></th>\n",
              "      <th>SNo</th>\n",
              "      <th>ObservationDate</th>\n",
              "      <th>Province/State</th>\n",
              "      <th>Country/Region</th>\n",
              "      <th>Last Update</th>\n",
              "      <th>Confirmed</th>\n",
              "      <th>Deaths</th>\n",
              "      <th>Recovered</th>\n",
              "    </tr>\n",
              "  </thead>\n",
              "  <tbody>\n",
              "    <tr>\n",
              "      <th>82</th>\n",
              "      <td>83.0</td>\n",
              "      <td>01/23/2020</td>\n",
              "      <td>NaN</td>\n",
              "      <td>Brazil</td>\n",
              "      <td>1/23/20 17:00</td>\n",
              "      <td>0.0</td>\n",
              "      <td>0.0</td>\n",
              "      <td>0.0</td>\n",
              "    </tr>\n",
              "    <tr>\n",
              "      <th>2455</th>\n",
              "      <td>2456.0</td>\n",
              "      <td>02/26/2020</td>\n",
              "      <td>NaN</td>\n",
              "      <td>Brazil</td>\n",
              "      <td>2020-02-26T23:53:02</td>\n",
              "      <td>1.0</td>\n",
              "      <td>0.0</td>\n",
              "      <td>0.0</td>\n",
              "    </tr>\n",
              "    <tr>\n",
              "      <th>2559</th>\n",
              "      <td>2560.0</td>\n",
              "      <td>02/27/2020</td>\n",
              "      <td>NaN</td>\n",
              "      <td>Brazil</td>\n",
              "      <td>2020-02-26T23:53:02</td>\n",
              "      <td>1.0</td>\n",
              "      <td>0.0</td>\n",
              "      <td>0.0</td>\n",
              "    </tr>\n",
              "    <tr>\n",
              "      <th>2668</th>\n",
              "      <td>2669.0</td>\n",
              "      <td>02/28/2020</td>\n",
              "      <td>NaN</td>\n",
              "      <td>Brazil</td>\n",
              "      <td>2020-02-26T23:53:02</td>\n",
              "      <td>1.0</td>\n",
              "      <td>0.0</td>\n",
              "      <td>0.0</td>\n",
              "    </tr>\n",
              "    <tr>\n",
              "      <th>2776</th>\n",
              "      <td>2777.0</td>\n",
              "      <td>02/29/2020</td>\n",
              "      <td>NaN</td>\n",
              "      <td>Brazil</td>\n",
              "      <td>2020-02-29T21:03:05</td>\n",
              "      <td>2.0</td>\n",
              "      <td>0.0</td>\n",
              "      <td>0.0</td>\n",
              "    </tr>\n",
              "  </tbody>\n",
              "</table>\n",
              "</div>"
            ],
            "text/plain": [
              "         SNo ObservationDate Province/State  ... Confirmed Deaths  Recovered\n",
              "82      83.0      01/23/2020            NaN  ...       0.0    0.0        0.0\n",
              "2455  2456.0      02/26/2020            NaN  ...       1.0    0.0        0.0\n",
              "2559  2560.0      02/27/2020            NaN  ...       1.0    0.0        0.0\n",
              "2668  2669.0      02/28/2020            NaN  ...       1.0    0.0        0.0\n",
              "2776  2777.0      02/29/2020            NaN  ...       2.0    0.0        0.0\n",
              "\n",
              "[5 rows x 8 columns]"
            ]
          },
          "metadata": {
            "tags": []
          },
          "execution_count": 43
        }
      ]
    },
    {
      "cell_type": "code",
      "metadata": {
        "id": "UIXkVFq9E-X_",
        "colab_type": "code",
        "outputId": "5f1d6cff-b5e5-4d82-b6a7-04059a5d95ed",
        "colab": {
          "base_uri": "https://localhost:8080/",
          "height": 204
        }
      },
      "source": [
        "covid_19_country2 = csv_covid_19.where(csv_covid_19[\"Country/Region\"]==country2).sort_values(by='ObservationDate')\n",
        "covid_19_country2.head()"
      ],
      "execution_count": 0,
      "outputs": [
        {
          "output_type": "execute_result",
          "data": {
            "text/html": [
              "<div>\n",
              "<style scoped>\n",
              "    .dataframe tbody tr th:only-of-type {\n",
              "        vertical-align: middle;\n",
              "    }\n",
              "\n",
              "    .dataframe tbody tr th {\n",
              "        vertical-align: top;\n",
              "    }\n",
              "\n",
              "    .dataframe thead th {\n",
              "        text-align: right;\n",
              "    }\n",
              "</style>\n",
              "<table border=\"1\" class=\"dataframe\">\n",
              "  <thead>\n",
              "    <tr style=\"text-align: right;\">\n",
              "      <th></th>\n",
              "      <th>SNo</th>\n",
              "      <th>ObservationDate</th>\n",
              "      <th>Province/State</th>\n",
              "      <th>Country/Region</th>\n",
              "      <th>Last Update</th>\n",
              "      <th>Confirmed</th>\n",
              "      <th>Deaths</th>\n",
              "      <th>Recovered</th>\n",
              "    </tr>\n",
              "  </thead>\n",
              "  <tbody>\n",
              "    <tr>\n",
              "      <th>3052</th>\n",
              "      <td>3053.0</td>\n",
              "      <td>03/02/2020</td>\n",
              "      <td>NaN</td>\n",
              "      <td>Latvia</td>\n",
              "      <td>2020-03-02T20:13:49</td>\n",
              "      <td>1.0</td>\n",
              "      <td>0.0</td>\n",
              "      <td>0.0</td>\n",
              "    </tr>\n",
              "    <tr>\n",
              "      <th>3201</th>\n",
              "      <td>3202.0</td>\n",
              "      <td>03/03/2020</td>\n",
              "      <td>NaN</td>\n",
              "      <td>Latvia</td>\n",
              "      <td>2020-03-02T20:13:49</td>\n",
              "      <td>1.0</td>\n",
              "      <td>0.0</td>\n",
              "      <td>0.0</td>\n",
              "    </tr>\n",
              "    <tr>\n",
              "      <th>3362</th>\n",
              "      <td>3363.0</td>\n",
              "      <td>03/04/2020</td>\n",
              "      <td>NaN</td>\n",
              "      <td>Latvia</td>\n",
              "      <td>2020-03-04T01:33:07</td>\n",
              "      <td>1.0</td>\n",
              "      <td>0.0</td>\n",
              "      <td>0.0</td>\n",
              "    </tr>\n",
              "    <tr>\n",
              "      <th>3531</th>\n",
              "      <td>3532.0</td>\n",
              "      <td>03/05/2020</td>\n",
              "      <td>NaN</td>\n",
              "      <td>Latvia</td>\n",
              "      <td>2020-03-04T01:33:07</td>\n",
              "      <td>1.0</td>\n",
              "      <td>0.0</td>\n",
              "      <td>0.0</td>\n",
              "    </tr>\n",
              "    <tr>\n",
              "      <th>3719</th>\n",
              "      <td>3720.0</td>\n",
              "      <td>03/06/2020</td>\n",
              "      <td>NaN</td>\n",
              "      <td>Latvia</td>\n",
              "      <td>2020-03-04T01:33:07</td>\n",
              "      <td>1.0</td>\n",
              "      <td>0.0</td>\n",
              "      <td>0.0</td>\n",
              "    </tr>\n",
              "  </tbody>\n",
              "</table>\n",
              "</div>"
            ],
            "text/plain": [
              "         SNo ObservationDate Province/State  ... Confirmed Deaths  Recovered\n",
              "3052  3053.0      03/02/2020            NaN  ...       1.0    0.0        0.0\n",
              "3201  3202.0      03/03/2020            NaN  ...       1.0    0.0        0.0\n",
              "3362  3363.0      03/04/2020            NaN  ...       1.0    0.0        0.0\n",
              "3531  3532.0      03/05/2020            NaN  ...       1.0    0.0        0.0\n",
              "3719  3720.0      03/06/2020            NaN  ...       1.0    0.0        0.0\n",
              "\n",
              "[5 rows x 8 columns]"
            ]
          },
          "metadata": {
            "tags": []
          },
          "execution_count": 56
        }
      ]
    },
    {
      "cell_type": "code",
      "metadata": {
        "id": "uobORib-1iFe",
        "colab_type": "code",
        "outputId": "cad28d96-7a51-428a-c3cf-dcc556f3c48d",
        "colab": {
          "base_uri": "https://localhost:8080/",
          "height": 341
        }
      },
      "source": [
        "plt.figure(figsize=(20,5))\n",
        "chart = sbn.lineplot(x='ObservationDate', y='Confirmed', hue='Country/Region', marker='o', data=covid_19_country1)\n",
        "chart.set_xticklabels(chart.get_xminorticklabels(), rotation=45, horizontalalignment='right')"
      ],
      "execution_count": 0,
      "outputs": [
        {
          "output_type": "execute_result",
          "data": {
            "text/plain": [
              "[]"
            ]
          },
          "metadata": {
            "tags": []
          },
          "execution_count": 45
        },
        {
          "output_type": "display_data",
          "data": {
            "image/png": "[encoded data removed]",
            "text/plain": [
              "<Figure size 1440x360 with 1 Axes>"
            ]
          },
          "metadata": {
            "tags": []
          }
        }
      ]
    },
    {
      "cell_type": "code",
      "metadata": {
        "id": "6hIz0GNAILp4",
        "colab_type": "code",
        "outputId": "3d5c3973-fc2b-4367-8ad4-0eecb4eba9a2",
        "colab": {
          "base_uri": "https://localhost:8080/",
          "height": 341
        }
      },
      "source": [
        "plt.figure(figsize=(20,5))\n",
        "chart = sbn.lineplot(x='ObservationDate', y='Confirmed', hue='Country/Region', marker='o', data=covid_19_country2)\n",
        "chart.set_xticklabels(chart.get_xminorticklabels(), rotation=45, horizontalalignment='right')"
      ],
      "execution_count": 0,
      "outputs": [
        {
          "output_type": "execute_result",
          "data": {
            "text/plain": [
              "[]"
            ]
          },
          "metadata": {
            "tags": []
          },
          "execution_count": 57
        },
        {
          "output_type": "display_data",
          "data": {
            "image/png": "[encoded data removed]",
            "text/plain": [
              "<Figure size 1440x360 with 1 Axes>"
            ]
          },
          "metadata": {
            "tags": []
          }
        }
      ]
    },
    {
      "cell_type": "code",
      "metadata": {
        "id": "2hwV1cs8NPc0",
        "colab_type": "code",
        "outputId": "e813d9ae-93fd-450b-b7aa-c9fb857a4fc1",
        "colab": {
          "base_uri": "https://localhost:8080/",
          "height": 204
        }
      },
      "source": [
        "covid_19_compare = csv_covid_19[(csv_covid_19['Country/Region']==country1) | (csv_covid_19['Country/Region']==country2)]\n",
        "covid_19_compare.sort_values(by='ObservationDate').head()"
      ],
      "execution_count": 0,
      "outputs": [
        {
          "output_type": "execute_result",
          "data": {
            "text/html": [
              "<div>\n",
              "<style scoped>\n",
              "    .dataframe tbody tr th:only-of-type {\n",
              "        vertical-align: middle;\n",
              "    }\n",
              "\n",
              "    .dataframe tbody tr th {\n",
              "        vertical-align: top;\n",
              "    }\n",
              "\n",
              "    .dataframe thead th {\n",
              "        text-align: right;\n",
              "    }\n",
              "</style>\n",
              "<table border=\"1\" class=\"dataframe\">\n",
              "  <thead>\n",
              "    <tr style=\"text-align: right;\">\n",
              "      <th></th>\n",
              "      <th>SNo</th>\n",
              "      <th>ObservationDate</th>\n",
              "      <th>Province/State</th>\n",
              "      <th>Country/Region</th>\n",
              "      <th>Last Update</th>\n",
              "      <th>Confirmed</th>\n",
              "      <th>Deaths</th>\n",
              "      <th>Recovered</th>\n",
              "    </tr>\n",
              "  </thead>\n",
              "  <tbody>\n",
              "    <tr>\n",
              "      <th>82</th>\n",
              "      <td>83</td>\n",
              "      <td>01/23/2020</td>\n",
              "      <td>NaN</td>\n",
              "      <td>Brazil</td>\n",
              "      <td>1/23/20 17:00</td>\n",
              "      <td>0.0</td>\n",
              "      <td>0.0</td>\n",
              "      <td>0.0</td>\n",
              "    </tr>\n",
              "    <tr>\n",
              "      <th>2455</th>\n",
              "      <td>2456</td>\n",
              "      <td>02/26/2020</td>\n",
              "      <td>NaN</td>\n",
              "      <td>Brazil</td>\n",
              "      <td>2020-02-26T23:53:02</td>\n",
              "      <td>1.0</td>\n",
              "      <td>0.0</td>\n",
              "      <td>0.0</td>\n",
              "    </tr>\n",
              "    <tr>\n",
              "      <th>2559</th>\n",
              "      <td>2560</td>\n",
              "      <td>02/27/2020</td>\n",
              "      <td>NaN</td>\n",
              "      <td>Brazil</td>\n",
              "      <td>2020-02-26T23:53:02</td>\n",
              "      <td>1.0</td>\n",
              "      <td>0.0</td>\n",
              "      <td>0.0</td>\n",
              "    </tr>\n",
              "    <tr>\n",
              "      <th>2668</th>\n",
              "      <td>2669</td>\n",
              "      <td>02/28/2020</td>\n",
              "      <td>NaN</td>\n",
              "      <td>Brazil</td>\n",
              "      <td>2020-02-26T23:53:02</td>\n",
              "      <td>1.0</td>\n",
              "      <td>0.0</td>\n",
              "      <td>0.0</td>\n",
              "    </tr>\n",
              "    <tr>\n",
              "      <th>2776</th>\n",
              "      <td>2777</td>\n",
              "      <td>02/29/2020</td>\n",
              "      <td>NaN</td>\n",
              "      <td>Brazil</td>\n",
              "      <td>2020-02-29T21:03:05</td>\n",
              "      <td>2.0</td>\n",
              "      <td>0.0</td>\n",
              "      <td>0.0</td>\n",
              "    </tr>\n",
              "  </tbody>\n",
              "</table>\n",
              "</div>"
            ],
            "text/plain": [
              "       SNo ObservationDate Province/State  ... Confirmed Deaths  Recovered\n",
              "82      83      01/23/2020            NaN  ...       0.0    0.0        0.0\n",
              "2455  2456      02/26/2020            NaN  ...       1.0    0.0        0.0\n",
              "2559  2560      02/27/2020            NaN  ...       1.0    0.0        0.0\n",
              "2668  2669      02/28/2020            NaN  ...       1.0    0.0        0.0\n",
              "2776  2777      02/29/2020            NaN  ...       2.0    0.0        0.0\n",
              "\n",
              "[5 rows x 8 columns]"
            ]
          },
          "metadata": {
            "tags": []
          },
          "execution_count": 58
        }
      ]
    },
    {
      "cell_type": "code",
      "metadata": {
        "id": "7hqVbpZ7N0c0",
        "colab_type": "code",
        "outputId": "4b6d03cc-7afb-42e9-a16c-6ef024edb93b",
        "colab": {
          "base_uri": "https://localhost:8080/",
          "height": 341
        }
      },
      "source": [
        "plt.figure(figsize=(20,5))\n",
        "chart = sbn.lineplot(x='ObservationDate', y='Confirmed', hue='Country/Region', marker='o', data=covid_19_compare)\n",
        "chart.set_xticklabels(chart.get_xminorticklabels(), rotation=45, horizontalalignment='right')"
      ],
      "execution_count": 0,
      "outputs": [
        {
          "output_type": "execute_result",
          "data": {
            "text/plain": [
              "[]"
            ]
          },
          "metadata": {
            "tags": []
          },
          "execution_count": 59
        },
        {
          "output_type": "display_data",
          "data": {
            "image/png": "[encoded data removed]",
            "text/plain": [
              "<Figure size 1440x360 with 1 Axes>"
            ]
          },
          "metadata": {
            "tags": []
          }
        }
      ]
    },
    {
      "cell_type": "code",
      "metadata": {
        "id": "35EEyYBOQVyP",
        "colab_type": "code",
        "colab": {}
      },
      "source": [
        ""
      ],
      "execution_count": 0,
      "outputs": []
    }
  ]
}